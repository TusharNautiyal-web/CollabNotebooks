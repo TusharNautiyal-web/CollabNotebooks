{
  "cells": [
    {
      "cell_type": "markdown",
      "metadata": {
        "id": "view-in-github",
        "colab_type": "text"
      },
      "source": [
        "<a href=\"https://colab.research.google.com/github/TusharNautiyal-web/CollabNotebooks/blob/main/All%20Notebooks/Streamlit_app_for_Titanic_Dataset.ipynb\" target=\"_parent\"><img src=\"https://colab.research.google.com/assets/colab-badge.svg\" alt=\"Open In Colab\"/></a>"
      ]
    },
    {
      "cell_type": "markdown",
      "metadata": {
        "id": "-BRfG2iEH9fJ"
      },
      "source": [
        "# HELLO ✋! Follow me here.\n",
        "``````\n",
        "@author : Tushar Nautiyal\n",
        "@For Tutorial : Yotube Link.\n",
        "\n",
        "``````\n",
        "\n",
        "<a href = 'https://www.linkedin.com/in/tusharnautiyal/'><img src = 'https://cdn-icons-png.flaticon.com/512/174/174857.png' width = '30px' height = '30px' ></img></a> \n",
        "<a href = 'https://www.kaggle.com/tusharnautiyalweb'><img src = 'https://cdn4.iconfinder.com/data/icons/logos-and-brands/512/189_Kaggle_logo_logos-512.png' width = '30px' height = '30px' ></img> </a>\n",
        "<a href = 'https://twitter.com/Tushar09235016'><img src = 'http://assets.stickpng.com/images/580b57fcd9996e24bc43c53e.png' width = '30px' height = '30px' ></img></a>\n",
        "<a href = 'https://www.youtube.com/channel/UCsfYqXa3LoaLkB-9F2vmplA'><img src = 'https://www.freeiconspng.com/thumbs/youtube-logo-png/hd-youtube-logo-png-transparent-background-20.png' width = '30px' height = '30px'></img></a>\n",
        "<a href = 'https://github.com/TusharNautiyal-web'><img src = 'https://cdn-icons-png.flaticon.com/512/25/25231.png' width = '30px' height = '30px' ></img></a><br>\n",
        "@Notebook Link: https://www.kaggle.com/tusharnautiyalweb/titanic-dataset-notebook"
      ]
    },
    {
      "cell_type": "markdown",
      "metadata": {
        "id": "xpEjGSdvFeOy"
      },
      "source": [
        "# Welcome To Streamlit Based Titanic Notebook \n",
        "Follow The Steps and you can run the app\n",
        "Remember to checkout my github,linkedin, or twitter profile and follow if you like it for more such notebooks.\n",
        "\n"
      ]
    },
    {
      "cell_type": "markdown",
      "metadata": {
        "id": "VHJexgH5Tms8"
      },
      "source": [
        "If Running For the first time  ⏬\n",
        "1. Run Step 1 It will download the dependencies.\n",
        "2. Run Step 2 It will Write app.py that will be runned.\n",
        "3. Run Step 3 It Will Run streamlit on domain check the video if confused.\n",
        "4. It will take some time to start streamlit app please be patient Thank You.\n"
      ]
    },
    {
      "cell_type": "markdown",
      "metadata": {
        "id": "6oFBQpApPboN"
      },
      "source": [
        "This is Step 1 ▶"
      ]
    },
    {
      "cell_type": "code",
      "execution_count": null,
      "metadata": {
        "colab": {
          "base_uri": "https://localhost:8080/"
        },
        "id": "UEVttw05JFf0",
        "outputId": "f97ba79f-1ab9-40e1-91e6-8548fe2b9ac2"
      },
      "outputs": [
        {
          "name": "stdout",
          "output_type": "stream",
          "text": [
            "\u001b[K     |████████████████████████████████| 10.1 MB 15.4 MB/s \n",
            "\u001b[K     |████████████████████████████████| 111 kB 53.7 MB/s \n",
            "\u001b[K     |████████████████████████████████| 4.3 MB 40.0 MB/s \n",
            "\u001b[K     |████████████████████████████████| 181 kB 42.6 MB/s \n",
            "\u001b[K     |████████████████████████████████| 77 kB 4.5 MB/s \n",
            "\u001b[K     |████████████████████████████████| 164 kB 62.4 MB/s \n",
            "\u001b[K     |████████████████████████████████| 63 kB 1.2 MB/s \n",
            "\u001b[K     |████████████████████████████████| 131 kB 43.5 MB/s \n",
            "\u001b[K     |████████████████████████████████| 130 kB 51.9 MB/s \n",
            "\u001b[K     |████████████████████████████████| 793 kB 46.7 MB/s \n",
            "\u001b[K     |████████████████████████████████| 428 kB 50.6 MB/s \n",
            "\u001b[K     |████████████████████████████████| 381 kB 38.9 MB/s \n",
            "\u001b[?25h  Building wheel for blinker (setup.py) ... \u001b[?25l\u001b[?25hdone\n",
            "  Building wheel for validators (setup.py) ... \u001b[?25l\u001b[?25hdone\n",
            "\u001b[31mERROR: pip's dependency resolver does not currently take into account all the packages that are installed. This behaviour is the source of the following dependency conflicts.\n",
            "jupyter-console 5.2.0 requires prompt-toolkit<2.0.0,>=1.0.0, but you have prompt-toolkit 3.0.29 which is incompatible.\n",
            "google-colab 1.0.0 requires ipykernel~=4.10, but you have ipykernel 6.13.0 which is incompatible.\n",
            "google-colab 1.0.0 requires ipython~=5.5.0, but you have ipython 7.33.0 which is incompatible.\n",
            "google-colab 1.0.0 requires tornado~=5.1.0; python_version >= \"3.0\", but you have tornado 6.1 which is incompatible.\u001b[0m\n",
            "\u001b[K\u001b[?25h/tools/node/bin/lt -> /tools/node/lib/node_modules/localtunnel/bin/lt.js\n",
            "\u001b[K\u001b[?25h+ localtunnel@2.0.2\n",
            "added 22 packages from 22 contributors in 3.081s\n"
          ]
        }
      ],
      "source": [
        "!pip install streamlit --quiet\n",
        "!npm install -g localtunnel"
      ]
    },
    {
      "cell_type": "markdown",
      "metadata": {
        "id": "zUt2c-22YwVM"
      },
      "source": [
        "This is Step 2 ▶"
      ]
    },
    {
      "cell_type": "code",
      "execution_count": null,
      "metadata": {
        "colab": {
          "base_uri": "https://localhost:8080/"
        },
        "id": "lK3OuiMuJfTz",
        "outputId": "a0375907-7958-4714-ca7e-e376e01ddc69"
      },
      "outputs": [
        {
          "name": "stdout",
          "output_type": "stream",
          "text": [
            "Writing app.py\n"
          ]
        }
      ],
      "source": [
        "%%writefile app.py\n",
        "import numpy as np\n",
        "import cloudpickle as cp\n",
        "from urllib.request import urlopen\n",
        "import pickle\n",
        "import pandas as pd\n",
        "import streamlit as st \n",
        "from PIL import Image\n",
        "\n",
        "# pickle_in = cp.load(urlopen(\"https://drive.google.com/uc?export=download&id=1c2Uwixm-3epbMjPScMWj91iSMVMaTsV9\")) \n",
        "# classifier=pickle.load(pickle_in)\n",
        "classifier = cp.load(urlopen(\"https://drive.google.com/uc?export=download&id=1c2Uwixm-3epbMjPScMWj91iSMVMaTsV9\"))\n",
        "def welcome():\n",
        "    return \"Welcome All\"\n",
        "\n",
        "def prediction_tiatnic(Pclass,Sex,SibSp,Parch,Embarked,Fare_category,Age_Category):\n",
        "    prediction=classifier.predict([[Pclass,Sex,SibSp,Parch,Embarked,Fare_category,Age_Category]])\n",
        "    print(prediction)\n",
        "    return prediction\n",
        "\n",
        "\n",
        "\n",
        "def main():\n",
        "    st.title(\"Titanic Prediction Authenticator\")\n",
        "    html_temp = \"\"\"\n",
        "    <div style=\"background-color:black;padding:10px;color: white\">\n",
        "    <h2 style=\"color:white;text-align:center;\">Streamlit Titanic ML App </h2>\n",
        "    </div>\n",
        "    \"\"\"\n",
        "    st.markdown(html_temp,unsafe_allow_html=True)\n",
        "    Pclass = st.text_input(\"Pclass\",\"Type Here\")\n",
        "    Sex = st.text_input(\"Sex\",\"Type Here\")\n",
        "    SibSp = st.text_input(\"SibSp\",\"Type Here\")\n",
        "    Parch = st.text_input(\"Parch\",\"Type Here\")\n",
        "    Embarked = st.text_input(\"Embarked\",\"Type Here\")\n",
        "    Fare_category = st.text_input(\"Fare_category\",\"Type Here\")\n",
        "    Age_Category = st.text_input(\"Age_Category\",\"Type Here\")\n",
        "    result=\"\"\n",
        "    if st.button(\"Predict\"):\n",
        "        result=prediction_tiatnic(Pclass,Sex,SibSp,Parch,Embarked,Fare_category,Age_Category)\n",
        "    if(result == 0):\n",
        "      result = 'Not Survived'\n",
        "    if(result == 1):\n",
        "      result = 'Survived'  \n",
        "    st.success(f'The Person {result}')\n",
        "    if st.button(\"Information of Elements\"):\n",
        "        st.text(\"Lets Understand How it Works\")\n",
        "        st.text(\"Built with Streamlit by Tushar Nautiyal\")\n",
        "        st.text(\"Embarked = C: 1, S: 2, Q: 3\")\n",
        "        st.text(\"Fare_category = Low: 0, Middle: 1, Upper_middle: 2, high: 3\")\n",
        "        st.text(\"Age_Category = young: 0, teenage :1, adults: 2, senior:3\")\n",
        "        st.text(\"Pclass = 1,2,3\")\n",
        "        st.text(\"Parch = 0,1,2,5,3,4,6\")\n",
        "        st.text(\"SibSp = 1, 0, 3, 4, 2, 5, 8\")\n",
        "        st.text(\"Sex = female: 1, male: 2\")\n",
        "        html1 = ''' <div>\n",
        "        <h2 style=\"color:white;text-align:center;\">Variable info</h2>\n",
        "        Variable\tDefinition\tKey\n",
        "        survival\tSurvival\t0 = No, 1 = Yes\n",
        "        pclass\tTicket class\t1 = 1st, 2 = 2nd, 3 = 3rd\n",
        "        sex:\tMale,Female\t\n",
        "        Age_category: \tAge category young teenage adult senior\t\n",
        "        sibsp\t# of siblings / spouses aboard the Titanic\t\n",
        "        parch\t# of parents / children aboard the Titanic\t\n",
        "        fare cagegory\t: Passenger fare clas\t\n",
        "        embarked:\tPort of Embarkation\tC = Cherbourg, Q = Queenstown, S = Southampton\n",
        "        </div>'''\n",
        "        st.markdown(html1, unsafe_allow_html = True)\n",
        "if __name__=='__main__':\n",
        "    main()"
      ]
    },
    {
      "cell_type": "markdown",
      "metadata": {
        "id": "KYfSa_otPdZ-"
      },
      "source": [
        "# **This is Final Step 3**: ✅\n",
        "After running the below code you will see something like this. Click on the your url - url to check the app. Ingnore the warning that you see its to avoid bad people from phishing as they can use local tunnel also Press Click to Continue. \n",
        "```\n",
        "2022-05-22 14:32:29.423 INFO    numexpr.utils: NumExpr defaulting to 2 threads.\n",
        "npx: installed 22 in 2.788s\n",
        "your url is: https://social-aliens-lick-35-245-190-225.loca.lt\n",
        "\n",
        "  You can now view your Streamlit app in your browser.\n",
        "\n",
        "  Network URL: http://172.28.0.2:8501\n",
        "  External URL: http://35.245.190.225:8501```\n",
        "```\n",
        "If you like such notebooks and projects do check out my social profile and follow me there \n",
        "Peace out✌\n"
      ]
    },
    {
      "cell_type": "markdown",
      "metadata": {
        "id": "pxFjYnnuajQr"
      },
      "source": [
        "If you are facing errors please try to reconnect and Start the notebook Again."
      ]
    },
    {
      "cell_type": "code",
      "execution_count": null,
      "metadata": {
        "colab": {
          "background_save": true,
          "base_uri": "https://localhost:8080/"
        },
        "id": "QWjtIXXjJRAY",
        "outputId": "ea31aa82-42c0-42e2-ede2-a086fa365304"
      },
      "outputs": [
        {
          "name": "stdout",
          "output_type": "stream",
          "text": [
            "2022-05-23 23:24:48.377 INFO    numexpr.utils: NumExpr defaulting to 2 threads.\n",
            "\u001b[K\u001b[?25hnpx: installed 22 in 3.017s\n",
            "your url is: https://four-queens-grab-34-91-127-138.loca.lt\n",
            "\u001b[0m\n",
            "\u001b[34m\u001b[1m  You can now view your Streamlit app in your browser.\u001b[0m\n",
            "\u001b[0m\n",
            "\u001b[34m  Network URL: \u001b[0m\u001b[1mhttp://172.28.0.2:8501\u001b[0m\n",
            "\u001b[34m  External URL: \u001b[0m\u001b[1mhttp://34.91.127.138:8501\u001b[0m\n",
            "\u001b[0m\n",
            "/usr/local/lib/python3.7/dist-packages/sklearn/base.py:451: UserWarning: X does not have valid feature names, but RandomForestClassifier was fitted with feature names\n",
            "  \"X does not have valid feature names, but\"\n",
            "[0]\n",
            "\u001b[34m  Stopping...\u001b[0m\n",
            "^C\n"
          ]
        }
      ],
      "source": [
        "!streamlit run app.py & npx localtunnel --port 8501"
      ]
    }
  ],
  "metadata": {
    "colab": {
      "collapsed_sections": [],
      "name": "Streamlit app for Titanic Dataset.ipynb",
      "provenance": [],
      "authorship_tag": "ABX9TyPKblnJ9lIw8YXzMVGldMZx",
      "include_colab_link": true
    },
    "kernelspec": {
      "display_name": "Python 3",
      "name": "python3"
    },
    "language_info": {
      "name": "python"
    }
  },
  "nbformat": 4,
  "nbformat_minor": 0
}