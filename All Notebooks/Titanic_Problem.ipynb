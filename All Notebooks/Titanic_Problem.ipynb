{
  "cells": [
    {
      "cell_type": "markdown",
      "metadata": {
        "id": "view-in-github",
        "colab_type": "text"
      },
      "source": [
        "<a href=\"https://colab.research.google.com/github/TusharNautiyal-web/CollabNotebooks/blob/main/All%20Notebooks/Titanic_Problem.ipynb\" target=\"_parent\"><img src=\"https://colab.research.google.com/assets/colab-badge.svg\" alt=\"Open In Colab\"/></a>"
      ]
    },
    {
      "cell_type": "code",
      "execution_count": null,
      "id": "23a98cae",
      "metadata": {
        "id": "23a98cae"
      },
      "outputs": [],
      "source": [
        "import pandas as pd\n",
        "import numpy as np\n",
        "import random as rnd\n",
        "import seaborn as sns\n",
        "import matplotlib.pyplot as plt\n",
        "%matplotlib inline"
      ]
    },
    {
      "cell_type": "code",
      "execution_count": null,
      "id": "4f691129",
      "metadata": {
        "id": "4f691129"
      },
      "outputs": [],
      "source": [
        "train_df = pd.read_csv('train.csv')\n",
        "test_df = pd.read_csv('test.csv')"
      ]
    },
    {
      "cell_type": "code",
      "execution_count": null,
      "id": "dd917ccf",
      "metadata": {
        "id": "dd917ccf",
        "outputId": "9a49d7be-5f77-42aa-e462-35e1b33dfe43"
      },
      "outputs": [
        {
          "data": {
            "text/plain": [
              "(891, 12)"
            ]
          },
          "execution_count": 3,
          "metadata": {},
          "output_type": "execute_result"
        }
      ],
      "source": [
        "train_df.shape"
      ]
    },
    {
      "cell_type": "code",
      "execution_count": null,
      "id": "fcf73de4",
      "metadata": {
        "id": "fcf73de4",
        "outputId": "1040f4e1-782e-4864-e81f-99d484d4d404"
      },
      "outputs": [
        {
          "data": {
            "text/plain": [
              "PassengerId    0.000000\n",
              "Survived       0.000000\n",
              "Pclass         0.000000\n",
              "Name           0.000000\n",
              "Sex            0.000000\n",
              "Age            0.198653\n",
              "SibSp          0.000000\n",
              "Parch          0.000000\n",
              "Ticket         0.000000\n",
              "Fare           0.000000\n",
              "Cabin          0.771044\n",
              "Embarked       0.002245\n",
              "dtype: float64"
            ]
          },
          "execution_count": 4,
          "metadata": {},
          "output_type": "execute_result"
        }
      ],
      "source": [
        "train_df.isnull().mean()"
      ]
    },
    {
      "cell_type": "code",
      "execution_count": null,
      "id": "f2fb39d3",
      "metadata": {
        "id": "f2fb39d3",
        "outputId": "f5a14ffa-f152-4cd4-cf3a-82933bbb8eb9"
      },
      "outputs": [
        {
          "data": {
            "text/plain": [
              "<AxesSubplot:>"
            ]
          },
          "execution_count": 5,
          "metadata": {},
          "output_type": "execute_result"
        },
        {
          "data": {
            "image/png": "[encoded data removed]",
            "text/plain": [
              "<Figure size 432x288 with 1 Axes>"
            ]
          },
          "metadata": {
            "needs_background": "light"
          },
          "output_type": "display_data"
        }
      ],
      "source": [
        "sns.boxplot(data = train_df['Age']) "
      ]
    },
    {
      "cell_type": "code",
      "execution_count": null,
      "id": "b0835fd2",
      "metadata": {
        "id": "b0835fd2"
      },
      "outputs": [],
      "source": [
        "mean = train_df.Age.mean()\n",
        "train_df.Age.fillna(mean, inplace = True)"
      ]
    },
    {
      "cell_type": "code",
      "execution_count": null,
      "id": "fa9b7137",
      "metadata": {
        "id": "fa9b7137"
      },
      "outputs": [],
      "source": [
        "mean = test_df.Age.mean()\n",
        "test_df.Age.fillna(mean, inplace = True)"
      ]
    },
    {
      "cell_type": "code",
      "execution_count": null,
      "id": "c6e77b66",
      "metadata": {
        "id": "c6e77b66",
        "outputId": "b99df7a1-d2c1-49d8-fce8-d9c2a44d9d88"
      },
      "outputs": [
        {
          "data": {
            "text/plain": [
              "PassengerId      0\n",
              "Survived         0\n",
              "Pclass           0\n",
              "Name             0\n",
              "Sex              0\n",
              "Age              0\n",
              "SibSp            0\n",
              "Parch            0\n",
              "Ticket           0\n",
              "Fare             0\n",
              "Cabin          687\n",
              "Embarked         2\n",
              "dtype: int64"
            ]
          },
          "execution_count": 8,
          "metadata": {},
          "output_type": "execute_result"
        }
      ],
      "source": [
        "train_df.isnull().sum()"
      ]
    },
    {
      "cell_type": "markdown",
      "id": "844a7ecf",
      "metadata": {
        "id": "844a7ecf"
      },
      "source": [
        "# Dropping Not important Features."
      ]
    },
    {
      "cell_type": "code",
      "execution_count": null,
      "id": "55d867de",
      "metadata": {
        "id": "55d867de",
        "outputId": "317ede81-0be1-457c-d264-cd58543e144e"
      },
      "outputs": [
        {
          "data": {
            "text/html": [
              "<div>\n",
              "<style scoped>\n",
              "    .dataframe tbody tr th:only-of-type {\n",
              "        vertical-align: middle;\n",
              "    }\n",
              "\n",
              "    .dataframe tbody tr th {\n",
              "        vertical-align: top;\n",
              "    }\n",
              "\n",
              "    .dataframe thead th {\n",
              "        text-align: right;\n",
              "    }\n",
              "</style>\n",
              "<table border=\"1\" class=\"dataframe\">\n",
              "  <thead>\n",
              "    <tr style=\"text-align: right;\">\n",
              "      <th></th>\n",
              "      <th>PassengerId</th>\n",
              "      <th>Survived</th>\n",
              "      <th>Pclass</th>\n",
              "      <th>Age</th>\n",
              "      <th>SibSp</th>\n",
              "      <th>Parch</th>\n",
              "      <th>Fare</th>\n",
              "    </tr>\n",
              "  </thead>\n",
              "  <tbody>\n",
              "    <tr>\n",
              "      <th>count</th>\n",
              "      <td>891.000000</td>\n",
              "      <td>891.000000</td>\n",
              "      <td>891.000000</td>\n",
              "      <td>891.000000</td>\n",
              "      <td>891.000000</td>\n",
              "      <td>891.000000</td>\n",
              "      <td>891.000000</td>\n",
              "    </tr>\n",
              "    <tr>\n",
              "      <th>mean</th>\n",
              "      <td>446.000000</td>\n",
              "      <td>0.383838</td>\n",
              "      <td>2.308642</td>\n",
              "      <td>29.699118</td>\n",
              "      <td>0.523008</td>\n",
              "      <td>0.381594</td>\n",
              "      <td>32.204208</td>\n",
              "    </tr>\n",
              "    <tr>\n",
              "      <th>std</th>\n",
              "      <td>257.353842</td>\n",
              "      <td>0.486592</td>\n",
              "      <td>0.836071</td>\n",
              "      <td>13.002015</td>\n",
              "      <td>1.102743</td>\n",
              "      <td>0.806057</td>\n",
              "      <td>49.693429</td>\n",
              "    </tr>\n",
              "    <tr>\n",
              "      <th>min</th>\n",
              "      <td>1.000000</td>\n",
              "      <td>0.000000</td>\n",
              "      <td>1.000000</td>\n",
              "      <td>0.420000</td>\n",
              "      <td>0.000000</td>\n",
              "      <td>0.000000</td>\n",
              "      <td>0.000000</td>\n",
              "    </tr>\n",
              "    <tr>\n",
              "      <th>25%</th>\n",
              "      <td>223.500000</td>\n",
              "      <td>0.000000</td>\n",
              "      <td>2.000000</td>\n",
              "      <td>22.000000</td>\n",
              "      <td>0.000000</td>\n",
              "      <td>0.000000</td>\n",
              "      <td>7.910400</td>\n",
              "    </tr>\n",
              "    <tr>\n",
              "      <th>50%</th>\n",
              "      <td>446.000000</td>\n",
              "      <td>0.000000</td>\n",
              "      <td>3.000000</td>\n",
              "      <td>29.699118</td>\n",
              "      <td>0.000000</td>\n",
              "      <td>0.000000</td>\n",
              "      <td>14.454200</td>\n",
              "    </tr>\n",
              "    <tr>\n",
              "      <th>75%</th>\n",
              "      <td>668.500000</td>\n",
              "      <td>1.000000</td>\n",
              "      <td>3.000000</td>\n",
              "      <td>35.000000</td>\n",
              "      <td>1.000000</td>\n",
              "      <td>0.000000</td>\n",
              "      <td>31.000000</td>\n",
              "    </tr>\n",
              "    <tr>\n",
              "      <th>max</th>\n",
              "      <td>891.000000</td>\n",
              "      <td>1.000000</td>\n",
              "      <td>3.000000</td>\n",
              "      <td>80.000000</td>\n",
              "      <td>8.000000</td>\n",
              "      <td>6.000000</td>\n",
              "      <td>512.329200</td>\n",
              "    </tr>\n",
              "  </tbody>\n",
              "</table>\n",
              "</div>"
            ],
            "text/plain": [
              "       PassengerId    Survived      Pclass         Age       SibSp  \\\n",
              "count   891.000000  891.000000  891.000000  891.000000  891.000000   \n",
              "mean    446.000000    0.383838    2.308642   29.699118    0.523008   \n",
              "std     257.353842    0.486592    0.836071   13.002015    1.102743   \n",
              "min       1.000000    0.000000    1.000000    0.420000    0.000000   \n",
              "25%     223.500000    0.000000    2.000000   22.000000    0.000000   \n",
              "50%     446.000000    0.000000    3.000000   29.699118    0.000000   \n",
              "75%     668.500000    1.000000    3.000000   35.000000    1.000000   \n",
              "max     891.000000    1.000000    3.000000   80.000000    8.000000   \n",
              "\n",
              "            Parch        Fare  \n",
              "count  891.000000  891.000000  \n",
              "mean     0.381594   32.204208  \n",
              "std      0.806057   49.693429  \n",
              "min      0.000000    0.000000  \n",
              "25%      0.000000    7.910400  \n",
              "50%      0.000000   14.454200  \n",
              "75%      0.000000   31.000000  \n",
              "max      6.000000  512.329200  "
            ]
          },
          "execution_count": 9,
          "metadata": {},
          "output_type": "execute_result"
        }
      ],
      "source": [
        "train_df.describe()"
      ]
    },
    {
      "cell_type": "code",
      "execution_count": null,
      "id": "78bcbeb8",
      "metadata": {
        "id": "78bcbeb8",
        "outputId": "b528e800-3b4a-4a01-e85e-7c24babc67fe"
      },
      "outputs": [
        {
          "data": {
            "text/plain": [
              "<AxesSubplot:>"
            ]
          },
          "execution_count": 10,
          "metadata": {},
          "output_type": "execute_result"
        },
        {
          "data": {
            "image/png": "[encoded data removed]",
            "text/plain": [
              "<Figure size 432x288 with 1 Axes>"
            ]
          },
          "metadata": {
            "needs_background": "light"
          },
          "output_type": "display_data"
        }
      ],
      "source": [
        "sns.boxplot(data = train_df.Fare)"
      ]
    },
    {
      "cell_type": "markdown",
      "id": "33e8c243",
      "metadata": {
        "id": "33e8c243"
      },
      "source": [
        "# We can Convert Fare info into highpayers low payers middle payers."
      ]
    },
    {
      "cell_type": "code",
      "execution_count": null,
      "id": "2b2ae694",
      "metadata": {
        "id": "2b2ae694",
        "outputId": "d5f2dd4f-2436-48c8-f310-20a33744b1c6"
      },
      "outputs": [
        {
          "data": {
            "text/plain": [
              "PassengerId      int64\n",
              "Survived         int64\n",
              "Pclass           int64\n",
              "Name            object\n",
              "Sex             object\n",
              "Age            float64\n",
              "SibSp            int64\n",
              "Parch            int64\n",
              "Ticket          object\n",
              "Fare           float64\n",
              "Cabin           object\n",
              "Embarked        object\n",
              "dtype: object"
            ]
          },
          "execution_count": 11,
          "metadata": {},
          "output_type": "execute_result"
        }
      ],
      "source": [
        "train_df.dtypes"
      ]
    },
    {
      "cell_type": "code",
      "execution_count": null,
      "id": "6562e589",
      "metadata": {
        "id": "6562e589"
      },
      "outputs": [],
      "source": [
        "x = pd.cut(train_df['Fare'].to_list(), 4)"
      ]
    },
    {
      "cell_type": "code",
      "execution_count": null,
      "id": "e69f076c",
      "metadata": {
        "id": "e69f076c"
      },
      "outputs": [],
      "source": [
        "train_df['Fare_band'] = x\n",
        "labels = ['low', 'middle', 'upper_middle','high']\n",
        "x.categories = labels\n",
        "train_df['Fare_category'] = x"
      ]
    },
    {
      "cell_type": "code",
      "execution_count": null,
      "id": "1216cbe9",
      "metadata": {
        "id": "1216cbe9",
        "outputId": "38fda23b-d96a-48a1-a121-f4d9fda7ad84"
      },
      "outputs": [
        {
          "data": {
            "text/plain": [
              "[(-0.512, 128.082], (256.165, 384.247], (128.082, 256.165], (384.247, 512.329]]\n",
              "Categories (4, interval[float64, right]): [(-0.512, 128.082] < (128.082, 256.165] < (256.165, 384.247] < (384.247, 512.329]]"
            ]
          },
          "execution_count": 14,
          "metadata": {},
          "output_type": "execute_result"
        }
      ],
      "source": [
        "train_df.Fare_band.unique()"
      ]
    },
    {
      "cell_type": "code",
      "execution_count": null,
      "id": "450776f4",
      "metadata": {
        "id": "450776f4",
        "outputId": "cac4e24b-4ce3-4b00-ddab-7110731ef9b2"
      },
      "outputs": [
        {
          "data": {
            "text/plain": [
              "PassengerId         int64\n",
              "Survived            int64\n",
              "Pclass              int64\n",
              "Name               object\n",
              "Sex                object\n",
              "Age               float64\n",
              "SibSp               int64\n",
              "Parch               int64\n",
              "Ticket             object\n",
              "Fare              float64\n",
              "Cabin              object\n",
              "Embarked           object\n",
              "Fare_band        category\n",
              "Fare_category    category\n",
              "dtype: object"
            ]
          },
          "execution_count": 15,
          "metadata": {},
          "output_type": "execute_result"
        }
      ],
      "source": [
        "train_df.dtypes"
      ]
    },
    {
      "cell_type": "code",
      "execution_count": null,
      "id": "33fc2f04",
      "metadata": {
        "id": "33fc2f04",
        "outputId": "9b92f730-c880-4fc5-8a74-21811586dd82"
      },
      "outputs": [
        {
          "data": {
            "text/plain": [
              "(-0.512, 128.082]     853\n",
              "(128.082, 256.165]     29\n",
              "(256.165, 384.247]      6\n",
              "(384.247, 512.329]      3\n",
              "Name: Fare_band, dtype: int64"
            ]
          },
          "execution_count": 16,
          "metadata": {},
          "output_type": "execute_result"
        }
      ],
      "source": [
        "train_df.Fare_band.value_counts()"
      ]
    },
    {
      "cell_type": "code",
      "execution_count": null,
      "id": "4d67ba8a",
      "metadata": {
        "id": "4d67ba8a"
      },
      "outputs": [],
      "source": [
        "bins = pd.IntervalIndex.from_tuples([(-0.512, 128.082), (128.082, 256.165), (256.165, 384.247),(384.247, 512.329)])\n",
        "x1 = pd.cut(test_df['Fare'].to_list(), bins)\n",
        "test_df['Fair_band'] = x1"
      ]
    },
    {
      "cell_type": "code",
      "execution_count": null,
      "id": "207ba1f0",
      "metadata": {
        "id": "207ba1f0"
      },
      "outputs": [],
      "source": [
        "x1.categories = ['low', 'middle', 'upper_middle','high']\n",
        "test_df['Fare_category'] = x1"
      ]
    },
    {
      "cell_type": "code",
      "execution_count": null,
      "id": "9f143011",
      "metadata": {
        "id": "9f143011",
        "outputId": "8d80e791-1d39-44fd-fac5-775e3cb0af32"
      },
      "outputs": [
        {
          "data": {
            "text/html": [
              "<div>\n",
              "<style scoped>\n",
              "    .dataframe tbody tr th:only-of-type {\n",
              "        vertical-align: middle;\n",
              "    }\n",
              "\n",
              "    .dataframe tbody tr th {\n",
              "        vertical-align: top;\n",
              "    }\n",
              "\n",
              "    .dataframe thead th {\n",
              "        text-align: right;\n",
              "    }\n",
              "</style>\n",
              "<table border=\"1\" class=\"dataframe\">\n",
              "  <thead>\n",
              "    <tr style=\"text-align: right;\">\n",
              "      <th></th>\n",
              "      <th>PassengerId</th>\n",
              "      <th>Survived</th>\n",
              "      <th>Pclass</th>\n",
              "      <th>Name</th>\n",
              "      <th>Sex</th>\n",
              "      <th>Age</th>\n",
              "      <th>SibSp</th>\n",
              "      <th>Parch</th>\n",
              "      <th>Ticket</th>\n",
              "      <th>Fare</th>\n",
              "      <th>Cabin</th>\n",
              "      <th>Embarked</th>\n",
              "      <th>Fare_band</th>\n",
              "      <th>Fare_category</th>\n",
              "    </tr>\n",
              "  </thead>\n",
              "  <tbody>\n",
              "    <tr>\n",
              "      <th>0</th>\n",
              "      <td>1</td>\n",
              "      <td>0</td>\n",
              "      <td>3</td>\n",
              "      <td>Braund, Mr. Owen Harris</td>\n",
              "      <td>male</td>\n",
              "      <td>22.0</td>\n",
              "      <td>1</td>\n",
              "      <td>0</td>\n",
              "      <td>A/5 21171</td>\n",
              "      <td>7.2500</td>\n",
              "      <td>NaN</td>\n",
              "      <td>S</td>\n",
              "      <td>(-0.512, 128.082]</td>\n",
              "      <td>low</td>\n",
              "    </tr>\n",
              "    <tr>\n",
              "      <th>1</th>\n",
              "      <td>2</td>\n",
              "      <td>1</td>\n",
              "      <td>1</td>\n",
              "      <td>Cumings, Mrs. John Bradley (Florence Briggs Th...</td>\n",
              "      <td>female</td>\n",
              "      <td>38.0</td>\n",
              "      <td>1</td>\n",
              "      <td>0</td>\n",
              "      <td>PC 17599</td>\n",
              "      <td>71.2833</td>\n",
              "      <td>C85</td>\n",
              "      <td>C</td>\n",
              "      <td>(-0.512, 128.082]</td>\n",
              "      <td>low</td>\n",
              "    </tr>\n",
              "    <tr>\n",
              "      <th>2</th>\n",
              "      <td>3</td>\n",
              "      <td>1</td>\n",
              "      <td>3</td>\n",
              "      <td>Heikkinen, Miss. Laina</td>\n",
              "      <td>female</td>\n",
              "      <td>26.0</td>\n",
              "      <td>0</td>\n",
              "      <td>0</td>\n",
              "      <td>STON/O2. 3101282</td>\n",
              "      <td>7.9250</td>\n",
              "      <td>NaN</td>\n",
              "      <td>S</td>\n",
              "      <td>(-0.512, 128.082]</td>\n",
              "      <td>low</td>\n",
              "    </tr>\n",
              "    <tr>\n",
              "      <th>3</th>\n",
              "      <td>4</td>\n",
              "      <td>1</td>\n",
              "      <td>1</td>\n",
              "      <td>Futrelle, Mrs. Jacques Heath (Lily May Peel)</td>\n",
              "      <td>female</td>\n",
              "      <td>35.0</td>\n",
              "      <td>1</td>\n",
              "      <td>0</td>\n",
              "      <td>113803</td>\n",
              "      <td>53.1000</td>\n",
              "      <td>C123</td>\n",
              "      <td>S</td>\n",
              "      <td>(-0.512, 128.082]</td>\n",
              "      <td>low</td>\n",
              "    </tr>\n",
              "    <tr>\n",
              "      <th>4</th>\n",
              "      <td>5</td>\n",
              "      <td>0</td>\n",
              "      <td>3</td>\n",
              "      <td>Allen, Mr. William Henry</td>\n",
              "      <td>male</td>\n",
              "      <td>35.0</td>\n",
              "      <td>0</td>\n",
              "      <td>0</td>\n",
              "      <td>373450</td>\n",
              "      <td>8.0500</td>\n",
              "      <td>NaN</td>\n",
              "      <td>S</td>\n",
              "      <td>(-0.512, 128.082]</td>\n",
              "      <td>low</td>\n",
              "    </tr>\n",
              "  </tbody>\n",
              "</table>\n",
              "</div>"
            ],
            "text/plain": [
              "   PassengerId  Survived  Pclass  \\\n",
              "0            1         0       3   \n",
              "1            2         1       1   \n",
              "2            3         1       3   \n",
              "3            4         1       1   \n",
              "4            5         0       3   \n",
              "\n",
              "                                                Name     Sex   Age  SibSp  \\\n",
              "0                            Braund, Mr. Owen Harris    male  22.0      1   \n",
              "1  Cumings, Mrs. John Bradley (Florence Briggs Th...  female  38.0      1   \n",
              "2                             Heikkinen, Miss. Laina  female  26.0      0   \n",
              "3       Futrelle, Mrs. Jacques Heath (Lily May Peel)  female  35.0      1   \n",
              "4                           Allen, Mr. William Henry    male  35.0      0   \n",
              "\n",
              "   Parch            Ticket     Fare Cabin Embarked          Fare_band  \\\n",
              "0      0         A/5 21171   7.2500   NaN        S  (-0.512, 128.082]   \n",
              "1      0          PC 17599  71.2833   C85        C  (-0.512, 128.082]   \n",
              "2      0  STON/O2. 3101282   7.9250   NaN        S  (-0.512, 128.082]   \n",
              "3      0            113803  53.1000  C123        S  (-0.512, 128.082]   \n",
              "4      0            373450   8.0500   NaN        S  (-0.512, 128.082]   \n",
              "\n",
              "  Fare_category  \n",
              "0           low  \n",
              "1           low  \n",
              "2           low  \n",
              "3           low  \n",
              "4           low  "
            ]
          },
          "execution_count": 19,
          "metadata": {},
          "output_type": "execute_result"
        }
      ],
      "source": [
        "train_df.head()"
      ]
    },
    {
      "cell_type": "code",
      "execution_count": null,
      "id": "09b606b4",
      "metadata": {
        "id": "09b606b4"
      },
      "outputs": [],
      "source": [
        "# dropping unecessary features."
      ]
    },
    {
      "cell_type": "code",
      "execution_count": null,
      "id": "f1e624b2",
      "metadata": {
        "id": "f1e624b2"
      },
      "outputs": [],
      "source": [
        "train_df.drop(['Fare_band','Fare','Name','PassengerId'], axis = 1, inplace = True)"
      ]
    },
    {
      "cell_type": "code",
      "execution_count": null,
      "id": "1b9eaabe",
      "metadata": {
        "id": "1b9eaabe"
      },
      "outputs": [],
      "source": [
        "test_df.drop(['Fair_band','Fare','Name','PassengerId'], axis = 1, inplace = True)"
      ]
    },
    {
      "cell_type": "code",
      "execution_count": null,
      "id": "b0269c56",
      "metadata": {
        "id": "b0269c56",
        "outputId": "4dcffd4b-fc24-453f-b6f2-30665526c801"
      },
      "outputs": [
        {
          "data": {
            "text/html": [
              "<div>\n",
              "<style scoped>\n",
              "    .dataframe tbody tr th:only-of-type {\n",
              "        vertical-align: middle;\n",
              "    }\n",
              "\n",
              "    .dataframe tbody tr th {\n",
              "        vertical-align: top;\n",
              "    }\n",
              "\n",
              "    .dataframe thead th {\n",
              "        text-align: right;\n",
              "    }\n",
              "</style>\n",
              "<table border=\"1\" class=\"dataframe\">\n",
              "  <thead>\n",
              "    <tr style=\"text-align: right;\">\n",
              "      <th></th>\n",
              "      <th>Pclass</th>\n",
              "      <th>Sex</th>\n",
              "      <th>Age</th>\n",
              "      <th>SibSp</th>\n",
              "      <th>Parch</th>\n",
              "      <th>Ticket</th>\n",
              "      <th>Cabin</th>\n",
              "      <th>Embarked</th>\n",
              "      <th>Fare_category</th>\n",
              "    </tr>\n",
              "  </thead>\n",
              "  <tbody>\n",
              "    <tr>\n",
              "      <th>0</th>\n",
              "      <td>3</td>\n",
              "      <td>male</td>\n",
              "      <td>34.5</td>\n",
              "      <td>0</td>\n",
              "      <td>0</td>\n",
              "      <td>330911</td>\n",
              "      <td>NaN</td>\n",
              "      <td>Q</td>\n",
              "      <td>low</td>\n",
              "    </tr>\n",
              "    <tr>\n",
              "      <th>1</th>\n",
              "      <td>3</td>\n",
              "      <td>female</td>\n",
              "      <td>47.0</td>\n",
              "      <td>1</td>\n",
              "      <td>0</td>\n",
              "      <td>363272</td>\n",
              "      <td>NaN</td>\n",
              "      <td>S</td>\n",
              "      <td>low</td>\n",
              "    </tr>\n",
              "    <tr>\n",
              "      <th>2</th>\n",
              "      <td>2</td>\n",
              "      <td>male</td>\n",
              "      <td>62.0</td>\n",
              "      <td>0</td>\n",
              "      <td>0</td>\n",
              "      <td>240276</td>\n",
              "      <td>NaN</td>\n",
              "      <td>Q</td>\n",
              "      <td>low</td>\n",
              "    </tr>\n",
              "    <tr>\n",
              "      <th>3</th>\n",
              "      <td>3</td>\n",
              "      <td>male</td>\n",
              "      <td>27.0</td>\n",
              "      <td>0</td>\n",
              "      <td>0</td>\n",
              "      <td>315154</td>\n",
              "      <td>NaN</td>\n",
              "      <td>S</td>\n",
              "      <td>low</td>\n",
              "    </tr>\n",
              "    <tr>\n",
              "      <th>4</th>\n",
              "      <td>3</td>\n",
              "      <td>female</td>\n",
              "      <td>22.0</td>\n",
              "      <td>1</td>\n",
              "      <td>1</td>\n",
              "      <td>3101298</td>\n",
              "      <td>NaN</td>\n",
              "      <td>S</td>\n",
              "      <td>low</td>\n",
              "    </tr>\n",
              "  </tbody>\n",
              "</table>\n",
              "</div>"
            ],
            "text/plain": [
              "   Pclass     Sex   Age  SibSp  Parch   Ticket Cabin Embarked Fare_category\n",
              "0       3    male  34.5      0      0   330911   NaN        Q           low\n",
              "1       3  female  47.0      1      0   363272   NaN        S           low\n",
              "2       2    male  62.0      0      0   240276   NaN        Q           low\n",
              "3       3    male  27.0      0      0   315154   NaN        S           low\n",
              "4       3  female  22.0      1      1  3101298   NaN        S           low"
            ]
          },
          "execution_count": 23,
          "metadata": {},
          "output_type": "execute_result"
        }
      ],
      "source": [
        "test_df.head()"
      ]
    },
    {
      "cell_type": "code",
      "execution_count": null,
      "id": "b47aead7",
      "metadata": {
        "id": "b47aead7",
        "outputId": "2c082a16-5532-4f83-bab8-30958ac35902"
      },
      "outputs": [
        {
          "data": {
            "text/html": [
              "<div>\n",
              "<style scoped>\n",
              "    .dataframe tbody tr th:only-of-type {\n",
              "        vertical-align: middle;\n",
              "    }\n",
              "\n",
              "    .dataframe tbody tr th {\n",
              "        vertical-align: top;\n",
              "    }\n",
              "\n",
              "    .dataframe thead th {\n",
              "        text-align: right;\n",
              "    }\n",
              "</style>\n",
              "<table border=\"1\" class=\"dataframe\">\n",
              "  <thead>\n",
              "    <tr style=\"text-align: right;\">\n",
              "      <th></th>\n",
              "      <th>Survived</th>\n",
              "      <th>Pclass</th>\n",
              "      <th>Sex</th>\n",
              "      <th>Age</th>\n",
              "      <th>SibSp</th>\n",
              "      <th>Parch</th>\n",
              "      <th>Ticket</th>\n",
              "      <th>Cabin</th>\n",
              "      <th>Embarked</th>\n",
              "      <th>Fare_category</th>\n",
              "    </tr>\n",
              "  </thead>\n",
              "  <tbody>\n",
              "    <tr>\n",
              "      <th>0</th>\n",
              "      <td>0</td>\n",
              "      <td>3</td>\n",
              "      <td>male</td>\n",
              "      <td>22.0</td>\n",
              "      <td>1</td>\n",
              "      <td>0</td>\n",
              "      <td>A/5 21171</td>\n",
              "      <td>NaN</td>\n",
              "      <td>S</td>\n",
              "      <td>low</td>\n",
              "    </tr>\n",
              "    <tr>\n",
              "      <th>1</th>\n",
              "      <td>1</td>\n",
              "      <td>1</td>\n",
              "      <td>female</td>\n",
              "      <td>38.0</td>\n",
              "      <td>1</td>\n",
              "      <td>0</td>\n",
              "      <td>PC 17599</td>\n",
              "      <td>C85</td>\n",
              "      <td>C</td>\n",
              "      <td>low</td>\n",
              "    </tr>\n",
              "    <tr>\n",
              "      <th>2</th>\n",
              "      <td>1</td>\n",
              "      <td>3</td>\n",
              "      <td>female</td>\n",
              "      <td>26.0</td>\n",
              "      <td>0</td>\n",
              "      <td>0</td>\n",
              "      <td>STON/O2. 3101282</td>\n",
              "      <td>NaN</td>\n",
              "      <td>S</td>\n",
              "      <td>low</td>\n",
              "    </tr>\n",
              "    <tr>\n",
              "      <th>3</th>\n",
              "      <td>1</td>\n",
              "      <td>1</td>\n",
              "      <td>female</td>\n",
              "      <td>35.0</td>\n",
              "      <td>1</td>\n",
              "      <td>0</td>\n",
              "      <td>113803</td>\n",
              "      <td>C123</td>\n",
              "      <td>S</td>\n",
              "      <td>low</td>\n",
              "    </tr>\n",
              "    <tr>\n",
              "      <th>4</th>\n",
              "      <td>0</td>\n",
              "      <td>3</td>\n",
              "      <td>male</td>\n",
              "      <td>35.0</td>\n",
              "      <td>0</td>\n",
              "      <td>0</td>\n",
              "      <td>373450</td>\n",
              "      <td>NaN</td>\n",
              "      <td>S</td>\n",
              "      <td>low</td>\n",
              "    </tr>\n",
              "  </tbody>\n",
              "</table>\n",
              "</div>"
            ],
            "text/plain": [
              "   Survived  Pclass     Sex   Age  SibSp  Parch            Ticket Cabin  \\\n",
              "0         0       3    male  22.0      1      0         A/5 21171   NaN   \n",
              "1         1       1  female  38.0      1      0          PC 17599   C85   \n",
              "2         1       3  female  26.0      0      0  STON/O2. 3101282   NaN   \n",
              "3         1       1  female  35.0      1      0            113803  C123   \n",
              "4         0       3    male  35.0      0      0            373450   NaN   \n",
              "\n",
              "  Embarked Fare_category  \n",
              "0        S           low  \n",
              "1        C           low  \n",
              "2        S           low  \n",
              "3        S           low  \n",
              "4        S           low  "
            ]
          },
          "execution_count": 24,
          "metadata": {},
          "output_type": "execute_result"
        }
      ],
      "source": [
        "train_df.head()"
      ]
    },
    {
      "cell_type": "code",
      "execution_count": null,
      "id": "00a80def",
      "metadata": {
        "id": "00a80def",
        "outputId": "71220426-6eb8-4af3-9b12-c9e74eee8fac"
      },
      "outputs": [
        {
          "data": {
            "text/plain": [
              "Survived         0.000000\n",
              "Pclass           0.000000\n",
              "Sex              0.000000\n",
              "Age              0.000000\n",
              "SibSp            0.000000\n",
              "Parch            0.000000\n",
              "Ticket           0.000000\n",
              "Cabin            0.771044\n",
              "Embarked         0.002245\n",
              "Fare_category    0.000000\n",
              "dtype: float64"
            ]
          },
          "execution_count": 25,
          "metadata": {},
          "output_type": "execute_result"
        }
      ],
      "source": [
        "train_df.isnull().mean()"
      ]
    },
    {
      "cell_type": "code",
      "execution_count": null,
      "id": "0ed20f1e",
      "metadata": {
        "id": "0ed20f1e"
      },
      "outputs": [],
      "source": [
        "train_df.drop('Cabin',axis = 1, inplace = True)\n",
        "test_df.drop('Cabin',axis = 1, inplace = True)"
      ]
    },
    {
      "cell_type": "code",
      "execution_count": null,
      "id": "8fec73e6",
      "metadata": {
        "id": "8fec73e6"
      },
      "outputs": [],
      "source": [
        "train_df.drop('Ticket',axis = 1, inplace = True)\n",
        "test_df.drop('Ticket',axis = 1, inplace = True)"
      ]
    },
    {
      "cell_type": "code",
      "execution_count": null,
      "id": "a6319119",
      "metadata": {
        "id": "a6319119",
        "outputId": "11923aad-1d8e-4af7-dd44-dfdb2119cb79"
      },
      "outputs": [
        {
          "data": {
            "text/plain": [
              "<AxesSubplot:>"
            ]
          },
          "execution_count": 28,
          "metadata": {},
          "output_type": "execute_result"
        },
        {
          "data": {
            "image/png": "[encoded data removed]",
            "text/plain": [
              "<Figure size 432x288 with 1 Axes>"
            ]
          },
          "metadata": {
            "needs_background": "light"
          },
          "output_type": "display_data"
        }
      ],
      "source": [
        "sns.boxplot(data = train_df['Age'])"
      ]
    },
    {
      "cell_type": "code",
      "execution_count": null,
      "id": "ff31af64",
      "metadata": {
        "id": "ff31af64"
      },
      "outputs": [],
      "source": [
        ""
      ]
    },
    {
      "cell_type": "code",
      "execution_count": null,
      "id": "46132605",
      "metadata": {
        "id": "46132605"
      },
      "outputs": [],
      "source": [
        "bins = pd.IntervalIndex.from_tuples([(0,19), (19, 40), (40,59),(59,80)])\n",
        "x2 = pd.cut(train_df['Age'].to_list(), bins)\n",
        "train_df['Age_band'] = x2\n",
        "x2.categories = ['teenage','young','adults','senior']\n",
        "train_df['Age_Category'] = x2\n"
      ]
    },
    {
      "cell_type": "code",
      "execution_count": null,
      "id": "8aeeef1c",
      "metadata": {
        "id": "8aeeef1c"
      },
      "outputs": [],
      "source": [
        "bins = pd.IntervalIndex.from_tuples([(0,19), (19, 40), (40,59),(59,80)])\n",
        "x2 = pd.cut(test_df['Age'].to_list(), bins)\n",
        "test_df['Age_band'] = x2\n",
        "x2.categories = ['teenage','young','adults','senior']\n",
        "test_df['Age_Category'] = x2"
      ]
    },
    {
      "cell_type": "code",
      "execution_count": null,
      "id": "9f42c6b0",
      "metadata": {
        "id": "9f42c6b0"
      },
      "outputs": [],
      "source": [
        "# Now we can drop Age.\n",
        "train_df.drop('Age',axis = 1,inplace = True)"
      ]
    },
    {
      "cell_type": "code",
      "execution_count": null,
      "id": "7ee30b69",
      "metadata": {
        "id": "7ee30b69"
      },
      "outputs": [],
      "source": [
        "train_df.drop('Age_band',axis = 1, inplace = True)\n",
        "test_df.drop(['Age','Age_band'], axis = 1, inplace = True)"
      ]
    },
    {
      "cell_type": "code",
      "execution_count": null,
      "id": "5b3f67cd",
      "metadata": {
        "id": "5b3f67cd",
        "outputId": "1a274766-61bf-4476-eb79-549bbf0761ef"
      },
      "outputs": [
        {
          "data": {
            "text/html": [
              "<div>\n",
              "<style scoped>\n",
              "    .dataframe tbody tr th:only-of-type {\n",
              "        vertical-align: middle;\n",
              "    }\n",
              "\n",
              "    .dataframe tbody tr th {\n",
              "        vertical-align: top;\n",
              "    }\n",
              "\n",
              "    .dataframe thead th {\n",
              "        text-align: right;\n",
              "    }\n",
              "</style>\n",
              "<table border=\"1\" class=\"dataframe\">\n",
              "  <thead>\n",
              "    <tr style=\"text-align: right;\">\n",
              "      <th></th>\n",
              "      <th>Survived</th>\n",
              "      <th>Pclass</th>\n",
              "      <th>Sex</th>\n",
              "      <th>SibSp</th>\n",
              "      <th>Parch</th>\n",
              "      <th>Embarked</th>\n",
              "      <th>Fare_category</th>\n",
              "      <th>Age_Category</th>\n",
              "    </tr>\n",
              "  </thead>\n",
              "  <tbody>\n",
              "    <tr>\n",
              "      <th>0</th>\n",
              "      <td>0</td>\n",
              "      <td>3</td>\n",
              "      <td>male</td>\n",
              "      <td>1</td>\n",
              "      <td>0</td>\n",
              "      <td>S</td>\n",
              "      <td>low</td>\n",
              "      <td>young</td>\n",
              "    </tr>\n",
              "    <tr>\n",
              "      <th>1</th>\n",
              "      <td>1</td>\n",
              "      <td>1</td>\n",
              "      <td>female</td>\n",
              "      <td>1</td>\n",
              "      <td>0</td>\n",
              "      <td>C</td>\n",
              "      <td>low</td>\n",
              "      <td>young</td>\n",
              "    </tr>\n",
              "    <tr>\n",
              "      <th>2</th>\n",
              "      <td>1</td>\n",
              "      <td>3</td>\n",
              "      <td>female</td>\n",
              "      <td>0</td>\n",
              "      <td>0</td>\n",
              "      <td>S</td>\n",
              "      <td>low</td>\n",
              "      <td>young</td>\n",
              "    </tr>\n",
              "    <tr>\n",
              "      <th>3</th>\n",
              "      <td>1</td>\n",
              "      <td>1</td>\n",
              "      <td>female</td>\n",
              "      <td>1</td>\n",
              "      <td>0</td>\n",
              "      <td>S</td>\n",
              "      <td>low</td>\n",
              "      <td>young</td>\n",
              "    </tr>\n",
              "    <tr>\n",
              "      <th>4</th>\n",
              "      <td>0</td>\n",
              "      <td>3</td>\n",
              "      <td>male</td>\n",
              "      <td>0</td>\n",
              "      <td>0</td>\n",
              "      <td>S</td>\n",
              "      <td>low</td>\n",
              "      <td>young</td>\n",
              "    </tr>\n",
              "  </tbody>\n",
              "</table>\n",
              "</div>"
            ],
            "text/plain": [
              "   Survived  Pclass     Sex  SibSp  Parch Embarked Fare_category Age_Category\n",
              "0         0       3    male      1      0        S           low        young\n",
              "1         1       1  female      1      0        C           low        young\n",
              "2         1       3  female      0      0        S           low        young\n",
              "3         1       1  female      1      0        S           low        young\n",
              "4         0       3    male      0      0        S           low        young"
            ]
          },
          "execution_count": 33,
          "metadata": {},
          "output_type": "execute_result"
        }
      ],
      "source": [
        "train_df.head()"
      ]
    },
    {
      "cell_type": "markdown",
      "id": "ce025d34",
      "metadata": {
        "id": "ce025d34"
      },
      "source": [
        "# Train and Test Split before doing feature enginnering and later on we can check our score also."
      ]
    },
    {
      "cell_type": "code",
      "execution_count": null,
      "id": "8b3efa03",
      "metadata": {
        "id": "8b3efa03"
      },
      "outputs": [],
      "source": [
        "X = train_df.iloc[:,1::]\n",
        "y = train_df['Survived']"
      ]
    },
    {
      "cell_type": "code",
      "execution_count": null,
      "id": "85f495e4",
      "metadata": {
        "id": "85f495e4"
      },
      "outputs": [],
      "source": [
        "from sklearn.model_selection import train_test_split\n",
        "X_train, X_test, y_train, y_test = train_test_split(X,y, test_size = 0.2, random_state = 0)"
      ]
    },
    {
      "cell_type": "code",
      "execution_count": null,
      "id": "4f9adba3",
      "metadata": {
        "id": "4f9adba3",
        "outputId": "154456da-b53c-4c1f-f83f-e9c6aa22b1c1"
      },
      "outputs": [
        {
          "data": {
            "text/html": [
              "<div>\n",
              "<style scoped>\n",
              "    .dataframe tbody tr th:only-of-type {\n",
              "        vertical-align: middle;\n",
              "    }\n",
              "\n",
              "    .dataframe tbody tr th {\n",
              "        vertical-align: top;\n",
              "    }\n",
              "\n",
              "    .dataframe thead th {\n",
              "        text-align: right;\n",
              "    }\n",
              "</style>\n",
              "<table border=\"1\" class=\"dataframe\">\n",
              "  <thead>\n",
              "    <tr style=\"text-align: right;\">\n",
              "      <th></th>\n",
              "      <th>Pclass</th>\n",
              "      <th>Sex</th>\n",
              "      <th>SibSp</th>\n",
              "      <th>Parch</th>\n",
              "      <th>Embarked</th>\n",
              "      <th>Fare_category</th>\n",
              "      <th>Age_Category</th>\n",
              "    </tr>\n",
              "  </thead>\n",
              "  <tbody>\n",
              "    <tr>\n",
              "      <th>140</th>\n",
              "      <td>3</td>\n",
              "      <td>female</td>\n",
              "      <td>0</td>\n",
              "      <td>2</td>\n",
              "      <td>C</td>\n",
              "      <td>low</td>\n",
              "      <td>young</td>\n",
              "    </tr>\n",
              "    <tr>\n",
              "      <th>439</th>\n",
              "      <td>2</td>\n",
              "      <td>male</td>\n",
              "      <td>0</td>\n",
              "      <td>0</td>\n",
              "      <td>S</td>\n",
              "      <td>low</td>\n",
              "      <td>young</td>\n",
              "    </tr>\n",
              "    <tr>\n",
              "      <th>817</th>\n",
              "      <td>2</td>\n",
              "      <td>male</td>\n",
              "      <td>1</td>\n",
              "      <td>1</td>\n",
              "      <td>C</td>\n",
              "      <td>low</td>\n",
              "      <td>young</td>\n",
              "    </tr>\n",
              "    <tr>\n",
              "      <th>378</th>\n",
              "      <td>3</td>\n",
              "      <td>male</td>\n",
              "      <td>0</td>\n",
              "      <td>0</td>\n",
              "      <td>C</td>\n",
              "      <td>low</td>\n",
              "      <td>young</td>\n",
              "    </tr>\n",
              "    <tr>\n",
              "      <th>491</th>\n",
              "      <td>3</td>\n",
              "      <td>male</td>\n",
              "      <td>0</td>\n",
              "      <td>0</td>\n",
              "      <td>S</td>\n",
              "      <td>low</td>\n",
              "      <td>young</td>\n",
              "    </tr>\n",
              "  </tbody>\n",
              "</table>\n",
              "</div>"
            ],
            "text/plain": [
              "     Pclass     Sex  SibSp  Parch Embarked Fare_category Age_Category\n",
              "140       3  female      0      2        C           low        young\n",
              "439       2    male      0      0        S           low        young\n",
              "817       2    male      1      1        C           low        young\n",
              "378       3    male      0      0        C           low        young\n",
              "491       3    male      0      0        S           low        young"
            ]
          },
          "execution_count": 36,
          "metadata": {},
          "output_type": "execute_result"
        }
      ],
      "source": [
        "X_train.head()"
      ]
    },
    {
      "cell_type": "code",
      "execution_count": null,
      "id": "4516df77",
      "metadata": {
        "id": "4516df77"
      },
      "outputs": [],
      "source": [
        "X_train['Sex'] = X_train.Sex.map({'female':1,'male':2})\n",
        "X_test['Sex'] = X_test.Sex.map({'female':1,'male':2})"
      ]
    },
    {
      "cell_type": "code",
      "execution_count": null,
      "id": "b37b599c",
      "metadata": {
        "id": "b37b599c",
        "outputId": "4c0a62e2-2bd1-4b81-c8ff-52a1aa8f4f62"
      },
      "outputs": [
        {
          "data": {
            "text/plain": [
              "array(['C', 'S', 'Q', nan], dtype=object)"
            ]
          },
          "execution_count": 38,
          "metadata": {},
          "output_type": "execute_result"
        }
      ],
      "source": [
        "X_train['Embarked'].unique()"
      ]
    },
    {
      "cell_type": "code",
      "execution_count": null,
      "id": "7b0b2f71",
      "metadata": {
        "id": "7b0b2f71"
      },
      "outputs": [],
      "source": [
        "mode = X_train.Embarked.mode()[0]\n",
        "X_train.Embarked.fillna(mode, inplace = True)\n",
        "mode1 = X_test.Embarked.mode()[0]\n",
        "X_test.Embarked.fillna(mode1, inplace = True)"
      ]
    },
    {
      "cell_type": "code",
      "execution_count": null,
      "id": "465e4c17",
      "metadata": {
        "id": "465e4c17"
      },
      "outputs": [],
      "source": [
        "X_train['Embarked'] = X_train.Embarked.map({'C': 1, 'S': 2, 'Q': 3})\n",
        "X_test['Embarked'] = X_test.Embarked.map({'C': 1, 'S': 2, 'Q': 3})"
      ]
    },
    {
      "cell_type": "code",
      "execution_count": null,
      "id": "298df0df",
      "metadata": {
        "scrolled": true,
        "id": "298df0df",
        "outputId": "98cb5225-761c-4881-c935-27fab2f08af4"
      },
      "outputs": [
        {
          "data": {
            "text/plain": [
              "low             684\n",
              "middle           21\n",
              "upper_middle      4\n",
              "high              3\n",
              "Name: Fare_category, dtype: int64"
            ]
          },
          "execution_count": 41,
          "metadata": {},
          "output_type": "execute_result"
        }
      ],
      "source": [
        "X_train['Fare_category'].value_counts()"
      ]
    },
    {
      "cell_type": "code",
      "execution_count": null,
      "id": "17cd04a6",
      "metadata": {
        "id": "17cd04a6",
        "outputId": "0e3e56cc-a311-4be3-940d-2b56fec553c1"
      },
      "outputs": [
        {
          "data": {
            "text/plain": [
              "young      462\n",
              "teenage    130\n",
              "adults     100\n",
              "senior      20\n",
              "Name: Age_Category, dtype: int64"
            ]
          },
          "execution_count": 42,
          "metadata": {},
          "output_type": "execute_result"
        }
      ],
      "source": [
        "X_train['Age_Category'].value_counts()"
      ]
    },
    {
      "cell_type": "code",
      "execution_count": null,
      "id": "fe377d65",
      "metadata": {
        "id": "fe377d65"
      },
      "outputs": [],
      "source": [
        "X_train['Age_Category'] = X_train['Age_Category'].map({'young':0,'teenage' :1,'adults': 2,'senior':3})"
      ]
    },
    {
      "cell_type": "code",
      "execution_count": null,
      "id": "fa9e0ecf",
      "metadata": {
        "id": "fa9e0ecf"
      },
      "outputs": [],
      "source": [
        "X_test['Age_Category'] = X_test['Age_Category'].map({'young':0,'teenage' :1,'adults': 2,'senior':3})"
      ]
    },
    {
      "cell_type": "code",
      "execution_count": null,
      "id": "09aae079",
      "metadata": {
        "id": "09aae079",
        "outputId": "4a3f9675-a144-427e-e7da-58e8c72561ba"
      },
      "outputs": [
        {
          "data": {
            "text/html": [
              "<div>\n",
              "<style scoped>\n",
              "    .dataframe tbody tr th:only-of-type {\n",
              "        vertical-align: middle;\n",
              "    }\n",
              "\n",
              "    .dataframe tbody tr th {\n",
              "        vertical-align: top;\n",
              "    }\n",
              "\n",
              "    .dataframe thead th {\n",
              "        text-align: right;\n",
              "    }\n",
              "</style>\n",
              "<table border=\"1\" class=\"dataframe\">\n",
              "  <thead>\n",
              "    <tr style=\"text-align: right;\">\n",
              "      <th></th>\n",
              "      <th>Pclass</th>\n",
              "      <th>Sex</th>\n",
              "      <th>SibSp</th>\n",
              "      <th>Parch</th>\n",
              "      <th>Embarked</th>\n",
              "      <th>Fare_category</th>\n",
              "      <th>Age_Category</th>\n",
              "    </tr>\n",
              "  </thead>\n",
              "  <tbody>\n",
              "    <tr>\n",
              "      <th>140</th>\n",
              "      <td>3</td>\n",
              "      <td>1</td>\n",
              "      <td>0</td>\n",
              "      <td>2</td>\n",
              "      <td>1</td>\n",
              "      <td>low</td>\n",
              "      <td>0</td>\n",
              "    </tr>\n",
              "    <tr>\n",
              "      <th>439</th>\n",
              "      <td>2</td>\n",
              "      <td>2</td>\n",
              "      <td>0</td>\n",
              "      <td>0</td>\n",
              "      <td>2</td>\n",
              "      <td>low</td>\n",
              "      <td>0</td>\n",
              "    </tr>\n",
              "    <tr>\n",
              "      <th>817</th>\n",
              "      <td>2</td>\n",
              "      <td>2</td>\n",
              "      <td>1</td>\n",
              "      <td>1</td>\n",
              "      <td>1</td>\n",
              "      <td>low</td>\n",
              "      <td>0</td>\n",
              "    </tr>\n",
              "    <tr>\n",
              "      <th>378</th>\n",
              "      <td>3</td>\n",
              "      <td>2</td>\n",
              "      <td>0</td>\n",
              "      <td>0</td>\n",
              "      <td>1</td>\n",
              "      <td>low</td>\n",
              "      <td>0</td>\n",
              "    </tr>\n",
              "    <tr>\n",
              "      <th>491</th>\n",
              "      <td>3</td>\n",
              "      <td>2</td>\n",
              "      <td>0</td>\n",
              "      <td>0</td>\n",
              "      <td>2</td>\n",
              "      <td>low</td>\n",
              "      <td>0</td>\n",
              "    </tr>\n",
              "  </tbody>\n",
              "</table>\n",
              "</div>"
            ],
            "text/plain": [
              "     Pclass  Sex  SibSp  Parch  Embarked Fare_category Age_Category\n",
              "140       3    1      0      2         1           low            0\n",
              "439       2    2      0      0         2           low            0\n",
              "817       2    2      1      1         1           low            0\n",
              "378       3    2      0      0         1           low            0\n",
              "491       3    2      0      0         2           low            0"
            ]
          },
          "execution_count": 45,
          "metadata": {},
          "output_type": "execute_result"
        }
      ],
      "source": [
        "X_train.head()"
      ]
    },
    {
      "cell_type": "code",
      "execution_count": null,
      "id": "697dcae9",
      "metadata": {
        "id": "697dcae9",
        "outputId": "cc2893bc-af90-4b4f-fd45-62864f330b37"
      },
      "outputs": [
        {
          "data": {
            "text/html": [
              "<div>\n",
              "<style scoped>\n",
              "    .dataframe tbody tr th:only-of-type {\n",
              "        vertical-align: middle;\n",
              "    }\n",
              "\n",
              "    .dataframe tbody tr th {\n",
              "        vertical-align: top;\n",
              "    }\n",
              "\n",
              "    .dataframe thead th {\n",
              "        text-align: right;\n",
              "    }\n",
              "</style>\n",
              "<table border=\"1\" class=\"dataframe\">\n",
              "  <thead>\n",
              "    <tr style=\"text-align: right;\">\n",
              "      <th></th>\n",
              "      <th>Pclass</th>\n",
              "      <th>Sex</th>\n",
              "      <th>SibSp</th>\n",
              "      <th>Parch</th>\n",
              "      <th>Embarked</th>\n",
              "      <th>Fare_category</th>\n",
              "      <th>Age_Category</th>\n",
              "    </tr>\n",
              "  </thead>\n",
              "  <tbody>\n",
              "    <tr>\n",
              "      <th>495</th>\n",
              "      <td>3</td>\n",
              "      <td>2</td>\n",
              "      <td>0</td>\n",
              "      <td>0</td>\n",
              "      <td>1</td>\n",
              "      <td>low</td>\n",
              "      <td>0</td>\n",
              "    </tr>\n",
              "    <tr>\n",
              "      <th>648</th>\n",
              "      <td>3</td>\n",
              "      <td>2</td>\n",
              "      <td>0</td>\n",
              "      <td>0</td>\n",
              "      <td>2</td>\n",
              "      <td>low</td>\n",
              "      <td>0</td>\n",
              "    </tr>\n",
              "    <tr>\n",
              "      <th>278</th>\n",
              "      <td>3</td>\n",
              "      <td>2</td>\n",
              "      <td>4</td>\n",
              "      <td>1</td>\n",
              "      <td>3</td>\n",
              "      <td>low</td>\n",
              "      <td>1</td>\n",
              "    </tr>\n",
              "    <tr>\n",
              "      <th>31</th>\n",
              "      <td>1</td>\n",
              "      <td>1</td>\n",
              "      <td>1</td>\n",
              "      <td>0</td>\n",
              "      <td>1</td>\n",
              "      <td>middle</td>\n",
              "      <td>0</td>\n",
              "    </tr>\n",
              "    <tr>\n",
              "      <th>255</th>\n",
              "      <td>3</td>\n",
              "      <td>1</td>\n",
              "      <td>0</td>\n",
              "      <td>2</td>\n",
              "      <td>1</td>\n",
              "      <td>low</td>\n",
              "      <td>0</td>\n",
              "    </tr>\n",
              "  </tbody>\n",
              "</table>\n",
              "</div>"
            ],
            "text/plain": [
              "     Pclass  Sex  SibSp  Parch  Embarked Fare_category Age_Category\n",
              "495       3    2      0      0         1           low            0\n",
              "648       3    2      0      0         2           low            0\n",
              "278       3    2      4      1         3           low            1\n",
              "31        1    1      1      0         1        middle            0\n",
              "255       3    1      0      2         1           low            0"
            ]
          },
          "execution_count": 46,
          "metadata": {},
          "output_type": "execute_result"
        }
      ],
      "source": [
        "X_test.head()"
      ]
    },
    {
      "cell_type": "code",
      "execution_count": null,
      "id": "bef60b0b",
      "metadata": {
        "id": "bef60b0b"
      },
      "outputs": [],
      "source": [
        "X_train['Fare_category'] = X_train['Fare_category'].map({'low':0,'middle' :1,'upper_middle': 2,'high':3})\n",
        "X_test['Fare_category'] = X_test['Fare_category'].map({'low':0,'middle' :1,'upper_middle': 2,'high':3})"
      ]
    },
    {
      "cell_type": "code",
      "execution_count": null,
      "id": "ca68aba5",
      "metadata": {
        "id": "ca68aba5",
        "outputId": "a119effd-76cb-47f6-e30e-721ce06494c6"
      },
      "outputs": [
        {
          "data": {
            "text/html": [
              "<div>\n",
              "<style scoped>\n",
              "    .dataframe tbody tr th:only-of-type {\n",
              "        vertical-align: middle;\n",
              "    }\n",
              "\n",
              "    .dataframe tbody tr th {\n",
              "        vertical-align: top;\n",
              "    }\n",
              "\n",
              "    .dataframe thead th {\n",
              "        text-align: right;\n",
              "    }\n",
              "</style>\n",
              "<table border=\"1\" class=\"dataframe\">\n",
              "  <thead>\n",
              "    <tr style=\"text-align: right;\">\n",
              "      <th></th>\n",
              "      <th>Pclass</th>\n",
              "      <th>Sex</th>\n",
              "      <th>SibSp</th>\n",
              "      <th>Parch</th>\n",
              "      <th>Embarked</th>\n",
              "      <th>Fare_category</th>\n",
              "      <th>Age_Category</th>\n",
              "    </tr>\n",
              "  </thead>\n",
              "  <tbody>\n",
              "    <tr>\n",
              "      <th>495</th>\n",
              "      <td>3</td>\n",
              "      <td>2</td>\n",
              "      <td>0</td>\n",
              "      <td>0</td>\n",
              "      <td>1</td>\n",
              "      <td>0</td>\n",
              "      <td>0</td>\n",
              "    </tr>\n",
              "    <tr>\n",
              "      <th>648</th>\n",
              "      <td>3</td>\n",
              "      <td>2</td>\n",
              "      <td>0</td>\n",
              "      <td>0</td>\n",
              "      <td>2</td>\n",
              "      <td>0</td>\n",
              "      <td>0</td>\n",
              "    </tr>\n",
              "    <tr>\n",
              "      <th>278</th>\n",
              "      <td>3</td>\n",
              "      <td>2</td>\n",
              "      <td>4</td>\n",
              "      <td>1</td>\n",
              "      <td>3</td>\n",
              "      <td>0</td>\n",
              "      <td>1</td>\n",
              "    </tr>\n",
              "    <tr>\n",
              "      <th>31</th>\n",
              "      <td>1</td>\n",
              "      <td>1</td>\n",
              "      <td>1</td>\n",
              "      <td>0</td>\n",
              "      <td>1</td>\n",
              "      <td>1</td>\n",
              "      <td>0</td>\n",
              "    </tr>\n",
              "    <tr>\n",
              "      <th>255</th>\n",
              "      <td>3</td>\n",
              "      <td>1</td>\n",
              "      <td>0</td>\n",
              "      <td>2</td>\n",
              "      <td>1</td>\n",
              "      <td>0</td>\n",
              "      <td>0</td>\n",
              "    </tr>\n",
              "  </tbody>\n",
              "</table>\n",
              "</div>"
            ],
            "text/plain": [
              "     Pclass  Sex  SibSp  Parch  Embarked Fare_category Age_Category\n",
              "495       3    2      0      0         1             0            0\n",
              "648       3    2      0      0         2             0            0\n",
              "278       3    2      4      1         3             0            1\n",
              "31        1    1      1      0         1             1            0\n",
              "255       3    1      0      2         1             0            0"
            ]
          },
          "execution_count": 49,
          "metadata": {},
          "output_type": "execute_result"
        }
      ],
      "source": [
        "X_test.head()"
      ]
    },
    {
      "cell_type": "code",
      "execution_count": null,
      "id": "dfebc3af",
      "metadata": {
        "id": "dfebc3af",
        "outputId": "e67cf826-a111-4ea7-eb60-a3cbfb7d92b3"
      },
      "outputs": [
        {
          "data": {
            "text/plain": [
              "<seaborn.axisgrid.PairGrid at 0x1f1f1771e70>"
            ]
          },
          "execution_count": 70,
          "metadata": {},
          "output_type": "execute_result"
        },
        {
          "data": {
            "image/png": "[encoded data removed]",
            "text/plain": [
              "<Figure size 591.875x540 with 12 Axes>"
            ]
          },
          "metadata": {
            "needs_background": "light"
          },
          "output_type": "display_data"
        }
      ],
      "source": [
        "sns.pairplot(data = train_df,hue = 'Survived')"
      ]
    },
    {
      "cell_type": "markdown",
      "id": "af8aa15f",
      "metadata": {
        "id": "af8aa15f"
      },
      "source": [
        "# Everything is done lets Apply Model Lets first Try with Random Forest Classifier"
      ]
    },
    {
      "cell_type": "code",
      "execution_count": null,
      "id": "7a9e3003",
      "metadata": {
        "id": "7a9e3003",
        "outputId": "d221f2a1-c89d-40b0-8fb0-f6be98351e74"
      },
      "outputs": [
        {
          "data": {
            "text/plain": [
              "KNeighborsClassifier()"
            ]
          },
          "execution_count": 91,
          "metadata": {},
          "output_type": "execute_result"
        }
      ],
      "source": [
        ""
      ]
    },
    {
      "cell_type": "code",
      "execution_count": null,
      "id": "06024158",
      "metadata": {
        "id": "06024158"
      },
      "outputs": [],
      "source": [
        "pred = ref.predict(X_test)"
      ]
    },
    {
      "cell_type": "code",
      "execution_count": null,
      "id": "84f39ccc",
      "metadata": {
        "id": "84f39ccc",
        "outputId": "c651bd1c-fa2c-4746-948c-d77cd9607000"
      },
      "outputs": [
        {
          "data": {
            "text/plain": [
              "0.7988826815642458"
            ]
          },
          "execution_count": 93,
          "metadata": {},
          "output_type": "execute_result"
        }
      ],
      "source": [
        "ref.score(X_test,y_test)"
      ]
    },
    {
      "cell_type": "code",
      "execution_count": null,
      "id": "3fb55942",
      "metadata": {
        "id": "3fb55942",
        "outputId": "904ac7a6-d103-43b1-95f4-7855f07f871d"
      },
      "outputs": [
        {
          "data": {
            "text/plain": [
              "0.8342696629213483"
            ]
          },
          "execution_count": 94,
          "metadata": {},
          "output_type": "execute_result"
        }
      ],
      "source": [
        "ref.score(X_train,y_train)"
      ]
    },
    {
      "cell_type": "code",
      "execution_count": null,
      "id": "2e838975",
      "metadata": {
        "id": "2e838975",
        "outputId": "feaa2fa6-fb78-418f-ed48-f2aec290a9c4"
      },
      "outputs": [
        {
          "data": {
            "text/plain": [
              "<sklearn.metrics._plot.roc_curve.RocCurveDisplay at 0x1f1f3d58f10>"
            ]
          },
          "execution_count": 95,
          "metadata": {},
          "output_type": "execute_result"
        },
        {
          "data": {
            "image/png": "[encoded data removed]",
            "text/plain": [
              "<Figure size 432x288 with 1 Axes>"
            ]
          },
          "metadata": {
            "needs_background": "light"
          },
          "output_type": "display_data"
        }
      ],
      "source": [
        "from sklearn.metrics import roc_curve,RocCurveDisplay,auc\n",
        "fpr, tpr, thresholds = roc_curve(y_test, pred)\n",
        "roc_auc = auc(fpr, tpr)\n",
        "display = RocCurveDisplay(fpr=fpr, tpr=tpr, roc_auc=roc_auc,estimator_name='example estimator')\n",
        "display.plot()"
      ]
    },
    {
      "cell_type": "code",
      "execution_count": null,
      "id": "0dbe6a03",
      "metadata": {
        "id": "0dbe6a03"
      },
      "outputs": [],
      "source": [
        "from sklearn.metrics import classification_report"
      ]
    },
    {
      "cell_type": "code",
      "execution_count": null,
      "id": "1838d5fd",
      "metadata": {
        "id": "1838d5fd",
        "outputId": "9b02d0f1-a86c-4abc-c23c-543261244a95"
      },
      "outputs": [
        {
          "name": "stdout",
          "output_type": "stream",
          "text": [
            "              precision    recall  f1-score   support\n",
            "\n",
            "           0       0.79      0.91      0.85       110\n",
            "           1       0.81      0.62      0.70        69\n",
            "\n",
            "    accuracy                           0.80       179\n",
            "   macro avg       0.80      0.77      0.78       179\n",
            "weighted avg       0.80      0.80      0.79       179\n",
            "\n"
          ]
        }
      ],
      "source": [
        "print(classification_report(y_test,pred)) "
      ]
    },
    {
      "cell_type": "markdown",
      "id": "07dbe8ea",
      "metadata": {
        "id": "07dbe8ea"
      },
      "source": [
        "# Lets see if we can get better value"
      ]
    },
    {
      "cell_type": "code",
      "execution_count": null,
      "id": "5d07c6c2",
      "metadata": {
        "id": "5d07c6c2",
        "outputId": "45cdc2bf-8bfb-48a1-ea9d-2686444dbec4"
      },
      "outputs": [
        {
          "data": {
            "text/plain": [
              "RandomForestClassifier()"
            ]
          },
          "execution_count": 166,
          "metadata": {},
          "output_type": "execute_result"
        }
      ],
      "source": [
        "from sklearn.ensemble import RandomForestClassifier\n",
        "ref = RandomForestClassifier()\n",
        "ref.fit(X_train,y_train)"
      ]
    },
    {
      "cell_type": "code",
      "execution_count": null,
      "id": "723e2e5e",
      "metadata": {
        "id": "723e2e5e"
      },
      "outputs": [],
      "source": [
        "pred = ref.predict(X_test)"
      ]
    },
    {
      "cell_type": "code",
      "execution_count": null,
      "id": "6d8e5410",
      "metadata": {
        "id": "6d8e5410",
        "outputId": "9cdb1516-b06a-4a9a-a189-bb87aa133bca"
      },
      "outputs": [
        {
          "name": "stdout",
          "output_type": "stream",
          "text": [
            "              precision    recall  f1-score   support\n",
            "\n",
            "           0       0.81      0.90      0.85       110\n",
            "           1       0.81      0.67      0.73        69\n",
            "\n",
            "    accuracy                           0.81       179\n",
            "   macro avg       0.81      0.78      0.79       179\n",
            "weighted avg       0.81      0.81      0.81       179\n",
            "\n"
          ]
        }
      ],
      "source": [
        "print(classification_report(y_test,pred)) "
      ]
    },
    {
      "cell_type": "code",
      "execution_count": null,
      "id": "452212e1",
      "metadata": {
        "id": "452212e1",
        "outputId": "c16b0969-bb6b-4527-bbc3-ca8fb72c6844"
      },
      "outputs": [
        {
          "data": {
            "text/plain": [
              "0.8044692737430168"
            ]
          },
          "execution_count": 133,
          "metadata": {},
          "output_type": "execute_result"
        }
      ],
      "source": [
        "ref.score(X_test,y_test)"
      ]
    },
    {
      "cell_type": "code",
      "execution_count": null,
      "id": "e53d8316",
      "metadata": {
        "id": "e53d8316",
        "outputId": "6dfd9942-bc00-4251-d8b8-82463277b2b6"
      },
      "outputs": [
        {
          "data": {
            "text/plain": [
              "0.8679775280898876"
            ]
          },
          "execution_count": 134,
          "metadata": {},
          "output_type": "execute_result"
        }
      ],
      "source": [
        "ref.score(X_train,y_train)"
      ]
    },
    {
      "cell_type": "code",
      "execution_count": null,
      "id": "1b2e3c9d",
      "metadata": {
        "id": "1b2e3c9d"
      },
      "outputs": [],
      "source": [
        "#Hyper-parameters.\n",
        "n_estimators = [int(x) for x in np.linspace(start = 100, stop = 1200, num = 12)]\n",
        "max_features = ['auto','sqrt']\n",
        "max_depth = [int(x) for x in np.linspace(5,30,num  = 6)]\n",
        "min_samples_split = [2,5,10,15,100]\n",
        "min_samples_leaf = [1,2,5,10]"
      ]
    },
    {
      "cell_type": "code",
      "execution_count": null,
      "id": "304d6105",
      "metadata": {
        "id": "304d6105"
      },
      "outputs": [],
      "source": [
        "Params = {'n_estimators':n_estimators,\n",
        "'max_features' :max_features,\n",
        "'max_depth' :max_depth,\n",
        "'min_samples_split':min_samples_split,\n",
        "'min_samples_leaf' :min_samples_leaf\n",
        "}"
      ]
    },
    {
      "cell_type": "code",
      "execution_count": null,
      "id": "76300f2d",
      "metadata": {
        "id": "76300f2d"
      },
      "outputs": [],
      "source": [
        "from sklearn.model_selection import RandomizedSearchCV\n",
        "random_rf = RandomizedSearchCV(estimator = ref, scoring = 'accuracy', param_distributions = Params, n_iter=10, n_jobs=1, cv=5, verbose=2, random_state=42)"
      ]
    },
    {
      "cell_type": "code",
      "execution_count": null,
      "id": "63d24a67",
      "metadata": {
        "id": "63d24a67",
        "outputId": "f0a08d22-ecc3-4ade-d70f-6a1e2a27077d"
      },
      "outputs": [
        {
          "name": "stdout",
          "output_type": "stream",
          "text": [
            "Fitting 5 folds for each of 10 candidates, totalling 50 fits\n",
            "[CV] END max_depth=10, max_features=sqrt, min_samples_leaf=5, min_samples_split=5, n_estimators=900; total time=   0.6s\n",
            "[CV] END max_depth=10, max_features=sqrt, min_samples_leaf=5, min_samples_split=5, n_estimators=900; total time=   0.6s\n",
            "[CV] END max_depth=10, max_features=sqrt, min_samples_leaf=5, min_samples_split=5, n_estimators=900; total time=   0.6s\n",
            "[CV] END max_depth=10, max_features=sqrt, min_samples_leaf=5, min_samples_split=5, n_estimators=900; total time=   0.6s\n",
            "[CV] END max_depth=10, max_features=sqrt, min_samples_leaf=5, min_samples_split=5, n_estimators=900; total time=   0.6s\n",
            "[CV] END max_depth=15, max_features=sqrt, min_samples_leaf=2, min_samples_split=10, n_estimators=1100; total time=   0.8s\n",
            "[CV] END max_depth=15, max_features=sqrt, min_samples_leaf=2, min_samples_split=10, n_estimators=1100; total time=   0.8s\n",
            "[CV] END max_depth=15, max_features=sqrt, min_samples_leaf=2, min_samples_split=10, n_estimators=1100; total time=   0.8s\n",
            "[CV] END max_depth=15, max_features=sqrt, min_samples_leaf=2, min_samples_split=10, n_estimators=1100; total time=   0.7s\n",
            "[CV] END max_depth=15, max_features=sqrt, min_samples_leaf=2, min_samples_split=10, n_estimators=1100; total time=   0.8s\n",
            "[CV] END max_depth=15, max_features=auto, min_samples_leaf=5, min_samples_split=100, n_estimators=300; total time=   0.1s\n",
            "[CV] END max_depth=15, max_features=auto, min_samples_leaf=5, min_samples_split=100, n_estimators=300; total time=   0.1s\n",
            "[CV] END max_depth=15, max_features=auto, min_samples_leaf=5, min_samples_split=100, n_estimators=300; total time=   0.1s\n",
            "[CV] END max_depth=15, max_features=auto, min_samples_leaf=5, min_samples_split=100, n_estimators=300; total time=   0.1s\n",
            "[CV] END max_depth=15, max_features=auto, min_samples_leaf=5, min_samples_split=100, n_estimators=300; total time=   0.1s\n",
            "[CV] END max_depth=15, max_features=auto, min_samples_leaf=5, min_samples_split=5, n_estimators=400; total time=   0.2s\n",
            "[CV] END max_depth=15, max_features=auto, min_samples_leaf=5, min_samples_split=5, n_estimators=400; total time=   0.2s\n",
            "[CV] END max_depth=15, max_features=auto, min_samples_leaf=5, min_samples_split=5, n_estimators=400; total time=   0.2s\n",
            "[CV] END max_depth=15, max_features=auto, min_samples_leaf=5, min_samples_split=5, n_estimators=400; total time=   0.2s\n",
            "[CV] END max_depth=15, max_features=auto, min_samples_leaf=5, min_samples_split=5, n_estimators=400; total time=   0.2s\n",
            "[CV] END max_depth=20, max_features=auto, min_samples_leaf=10, min_samples_split=5, n_estimators=700; total time=   0.5s\n",
            "[CV] END max_depth=20, max_features=auto, min_samples_leaf=10, min_samples_split=5, n_estimators=700; total time=   0.5s\n",
            "[CV] END max_depth=20, max_features=auto, min_samples_leaf=10, min_samples_split=5, n_estimators=700; total time=   0.4s\n",
            "[CV] END max_depth=20, max_features=auto, min_samples_leaf=10, min_samples_split=5, n_estimators=700; total time=   0.4s\n",
            "[CV] END max_depth=20, max_features=auto, min_samples_leaf=10, min_samples_split=5, n_estimators=700; total time=   0.5s\n",
            "[CV] END max_depth=25, max_features=sqrt, min_samples_leaf=1, min_samples_split=2, n_estimators=1000; total time=   0.7s\n",
            "[CV] END max_depth=25, max_features=sqrt, min_samples_leaf=1, min_samples_split=2, n_estimators=1000; total time=   0.7s\n",
            "[CV] END max_depth=25, max_features=sqrt, min_samples_leaf=1, min_samples_split=2, n_estimators=1000; total time=   0.7s\n",
            "[CV] END max_depth=25, max_features=sqrt, min_samples_leaf=1, min_samples_split=2, n_estimators=1000; total time=   0.7s\n",
            "[CV] END max_depth=25, max_features=sqrt, min_samples_leaf=1, min_samples_split=2, n_estimators=1000; total time=   0.7s\n",
            "[CV] END max_depth=5, max_features=sqrt, min_samples_leaf=10, min_samples_split=15, n_estimators=1100; total time=   0.7s\n",
            "[CV] END max_depth=5, max_features=sqrt, min_samples_leaf=10, min_samples_split=15, n_estimators=1100; total time=   0.7s\n",
            "[CV] END max_depth=5, max_features=sqrt, min_samples_leaf=10, min_samples_split=15, n_estimators=1100; total time=   0.7s\n",
            "[CV] END max_depth=5, max_features=sqrt, min_samples_leaf=10, min_samples_split=15, n_estimators=1100; total time=   0.7s\n",
            "[CV] END max_depth=5, max_features=sqrt, min_samples_leaf=10, min_samples_split=15, n_estimators=1100; total time=   0.7s\n",
            "[CV] END max_depth=15, max_features=sqrt, min_samples_leaf=1, min_samples_split=15, n_estimators=300; total time=   0.1s\n",
            "[CV] END max_depth=15, max_features=sqrt, min_samples_leaf=1, min_samples_split=15, n_estimators=300; total time=   0.1s\n",
            "[CV] END max_depth=15, max_features=sqrt, min_samples_leaf=1, min_samples_split=15, n_estimators=300; total time=   0.1s\n",
            "[CV] END max_depth=15, max_features=sqrt, min_samples_leaf=1, min_samples_split=15, n_estimators=300; total time=   0.1s\n",
            "[CV] END max_depth=15, max_features=sqrt, min_samples_leaf=1, min_samples_split=15, n_estimators=300; total time=   0.1s\n",
            "[CV] END max_depth=5, max_features=sqrt, min_samples_leaf=2, min_samples_split=10, n_estimators=700; total time=   0.4s\n",
            "[CV] END max_depth=5, max_features=sqrt, min_samples_leaf=2, min_samples_split=10, n_estimators=700; total time=   0.4s\n",
            "[CV] END max_depth=5, max_features=sqrt, min_samples_leaf=2, min_samples_split=10, n_estimators=700; total time=   0.4s\n",
            "[CV] END max_depth=5, max_features=sqrt, min_samples_leaf=2, min_samples_split=10, n_estimators=700; total time=   0.4s\n",
            "[CV] END max_depth=5, max_features=sqrt, min_samples_leaf=2, min_samples_split=10, n_estimators=700; total time=   0.4s\n",
            "[CV] END max_depth=20, max_features=auto, min_samples_leaf=1, min_samples_split=15, n_estimators=700; total time=   0.5s\n",
            "[CV] END max_depth=20, max_features=auto, min_samples_leaf=1, min_samples_split=15, n_estimators=700; total time=   0.5s\n",
            "[CV] END max_depth=20, max_features=auto, min_samples_leaf=1, min_samples_split=15, n_estimators=700; total time=   0.4s\n",
            "[CV] END max_depth=20, max_features=auto, min_samples_leaf=1, min_samples_split=15, n_estimators=700; total time=   0.4s\n",
            "[CV] END max_depth=20, max_features=auto, min_samples_leaf=1, min_samples_split=15, n_estimators=700; total time=   0.5s\n"
          ]
        },
        {
          "data": {
            "text/plain": [
              "RandomizedSearchCV(cv=5, estimator=RandomForestClassifier(), n_jobs=1,\n",
              "                   param_distributions={'max_depth': [5, 10, 15, 20, 25, 30],\n",
              "                                        'max_features': ['auto', 'sqrt'],\n",
              "                                        'min_samples_leaf': [1, 2, 5, 10],\n",
              "                                        'min_samples_split': [2, 5, 10, 15,\n",
              "                                                              100],\n",
              "                                        'n_estimators': [100, 200, 300, 400,\n",
              "                                                         500, 600, 700, 800,\n",
              "                                                         900, 1000, 1100,\n",
              "                                                         1200]},\n",
              "                   random_state=42, scoring='accuracy', verbose=2)"
            ]
          },
          "execution_count": 151,
          "metadata": {},
          "output_type": "execute_result"
        }
      ],
      "source": [
        "random_rf.fit(X_train,y_train)"
      ]
    },
    {
      "cell_type": "code",
      "execution_count": null,
      "id": "7b591841",
      "metadata": {
        "id": "7b591841",
        "outputId": "d76da477-f8e2-4a46-ebd1-1eb1a032ad1b"
      },
      "outputs": [
        {
          "data": {
            "text/plain": [
              "{'n_estimators': 300,\n",
              " 'min_samples_split': 15,\n",
              " 'min_samples_leaf': 1,\n",
              " 'max_features': 'sqrt',\n",
              " 'max_depth': 15}"
            ]
          },
          "execution_count": 154,
          "metadata": {},
          "output_type": "execute_result"
        }
      ],
      "source": [
        "random_rf.best_params_"
      ]
    },
    {
      "cell_type": "code",
      "execution_count": null,
      "id": "9de47a07",
      "metadata": {
        "id": "9de47a07",
        "outputId": "2704b455-5f93-49f9-be66-e38b4c824f3f"
      },
      "outputs": [
        {
          "data": {
            "text/plain": [
              "0.8455056179775281"
            ]
          },
          "execution_count": 155,
          "metadata": {},
          "output_type": "execute_result"
        }
      ],
      "source": [
        "random_rf.score(X_train,y_train)"
      ]
    },
    {
      "cell_type": "code",
      "execution_count": null,
      "id": "d9f89ff2",
      "metadata": {
        "id": "d9f89ff2",
        "outputId": "4584a29e-6c00-4d29-ef27-df8cb84e32c7"
      },
      "outputs": [
        {
          "data": {
            "text/plain": [
              "0.8044692737430168"
            ]
          },
          "execution_count": 156,
          "metadata": {},
          "output_type": "execute_result"
        }
      ],
      "source": [
        "random_rf.score(X_test,y_test)"
      ]
    },
    {
      "cell_type": "code",
      "execution_count": null,
      "id": "b7ec3a6c",
      "metadata": {
        "id": "b7ec3a6c"
      },
      "outputs": [],
      "source": [
        "pred = random_rf.predict(X_test)"
      ]
    },
    {
      "cell_type": "code",
      "execution_count": null,
      "id": "d13f6f40",
      "metadata": {
        "id": "d13f6f40",
        "outputId": "e25508ec-eff2-4aaa-f9a4-86a4009315a0"
      },
      "outputs": [
        {
          "name": "stdout",
          "output_type": "stream",
          "text": [
            "              precision    recall  f1-score   support\n",
            "\n",
            "           0       0.80      0.91      0.85       110\n",
            "           1       0.81      0.64      0.72        69\n",
            "\n",
            "    accuracy                           0.80       179\n",
            "   macro avg       0.81      0.77      0.78       179\n",
            "weighted avg       0.81      0.80      0.80       179\n",
            "\n"
          ]
        }
      ],
      "source": [
        "print(classification_report(y_test,pred)) "
      ]
    },
    {
      "cell_type": "code",
      "execution_count": null,
      "id": "8109dae8",
      "metadata": {
        "id": "8109dae8",
        "outputId": "10edbd65-063e-4c8a-823c-c5fc957308ba"
      },
      "outputs": [
        {
          "data": {
            "text/plain": [
              "RandomForestClassifier(max_depth=15, min_samples_split=15, n_estimators=200)"
            ]
          },
          "execution_count": 222,
          "metadata": {},
          "output_type": "execute_result"
        }
      ],
      "source": [
        "from sklearn.ensemble import RandomForestClassifier\n",
        "ref = RandomForestClassifier(n_estimators = 200, max_depth = 15, min_samples_split = 15, min_samples_leaf = 1)\n",
        "ref.fit(X_train,y_train)"
      ]
    },
    {
      "cell_type": "code",
      "execution_count": null,
      "id": "708b7d38",
      "metadata": {
        "id": "708b7d38"
      },
      "outputs": [],
      "source": [
        "pred = ref.predict(X_test)"
      ]
    },
    {
      "cell_type": "code",
      "execution_count": null,
      "id": "0a5b0069",
      "metadata": {
        "id": "0a5b0069",
        "outputId": "98ff3486-d804-4544-fed3-a3dde1ac6b7f"
      },
      "outputs": [
        {
          "name": "stdout",
          "output_type": "stream",
          "text": [
            "              precision    recall  f1-score   support\n",
            "\n",
            "           0       0.81      0.91      0.86       110\n",
            "           1       0.82      0.67      0.74        69\n",
            "\n",
            "    accuracy                           0.82       179\n",
            "   macro avg       0.82      0.79      0.80       179\n",
            "weighted avg       0.82      0.82      0.81       179\n",
            "\n"
          ]
        }
      ],
      "source": [
        "print(classification_report(y_test,pred)) "
      ]
    },
    {
      "cell_type": "code",
      "execution_count": null,
      "id": "b1f08efc",
      "metadata": {
        "id": "b1f08efc",
        "outputId": "505303a5-1d86-4216-85d4-05638d732109"
      },
      "outputs": [
        {
          "data": {
            "text/plain": [
              "0.8469101123595506"
            ]
          },
          "execution_count": 225,
          "metadata": {},
          "output_type": "execute_result"
        }
      ],
      "source": [
        "ref.score(X_train,y_train)"
      ]
    },
    {
      "cell_type": "code",
      "execution_count": null,
      "id": "6b6596c4",
      "metadata": {
        "id": "6b6596c4"
      },
      "outputs": [],
      "source": [
        "new_test =pd.read_csv('test.csv')\n",
        "x_test = test_df"
      ]
    },
    {
      "cell_type": "code",
      "execution_count": null,
      "id": "900b4efb",
      "metadata": {
        "id": "900b4efb"
      },
      "outputs": [],
      "source": [
        "x_test['PassengerId'] = new_test['PassengerId']"
      ]
    },
    {
      "cell_type": "code",
      "execution_count": null,
      "id": "0dddc937",
      "metadata": {
        "id": "0dddc937"
      },
      "outputs": [],
      "source": [
        "x_test.Fare_category.fillna('low',inplace = True)"
      ]
    },
    {
      "cell_type": "code",
      "execution_count": null,
      "id": "4c5d0ca9",
      "metadata": {
        "id": "4c5d0ca9"
      },
      "outputs": [],
      "source": [
        "x_test['Sex'] = x_test.Sex.map({'female':1,'male':2})\n",
        "x_test['Embarked'] = x_test.Embarked.map({'C': 1, 'S': 2, 'Q': 3})\n",
        "x_test['Age_Category'] = x_test['Age_Category'].map({'young':0,'teenage' :1,'adults': 2,'senior':3})\n",
        "x_test['Fare_category'] = x_test['Fare_category'].map({'low':0,'middle' :1,'upper_middle': 2,'high':3})"
      ]
    },
    {
      "cell_type": "code",
      "execution_count": null,
      "id": "a2198a6e",
      "metadata": {
        "id": "a2198a6e"
      },
      "outputs": [],
      "source": [
        "test = x_test.drop('PassengerId',axis = 1)\n",
        "finalpred = ref.predict(test)"
      ]
    },
    {
      "cell_type": "code",
      "execution_count": null,
      "id": "97d0a343",
      "metadata": {
        "id": "97d0a343"
      },
      "outputs": [],
      "source": [
        "Survived = pd.Series(finalpred)\n",
        "PassengerId = x_test['PassengerId']\n",
        "data = {'PassengerId':PassengerId,'Survived':Survived}\n",
        "finaldf = pd.DataFrame(data)"
      ]
    },
    {
      "cell_type": "code",
      "execution_count": null,
      "id": "138db6f2",
      "metadata": {
        "id": "138db6f2"
      },
      "outputs": [],
      "source": [
        "finaldf.to_csv('new_result.csv')"
      ]
    },
    {
      "cell_type": "code",
      "execution_count": null,
      "id": "628e45ba",
      "metadata": {
        "id": "628e45ba"
      },
      "outputs": [],
      "source": [
        "import pickle\n",
        "file = open('random_f.pkl', 'wb')\n",
        "pickle.dump(ref,file)"
      ]
    },
    {
      "cell_type": "code",
      "execution_count": null,
      "id": "d6602531",
      "metadata": {
        "id": "d6602531"
      },
      "outputs": [],
      "source": [
        ""
      ]
    }
  ],
  "metadata": {
    "kernelspec": {
      "display_name": "Python 3 (ipykernel)",
      "language": "python",
      "name": "python3"
    },
    "language_info": {
      "codemirror_mode": {
        "name": "ipython",
        "version": 3
      },
      "file_extension": ".py",
      "mimetype": "text/x-python",
      "name": "python",
      "nbconvert_exporter": "python",
      "pygments_lexer": "ipython3",
      "version": "3.10.2"
    },
    "colab": {
      "name": "Titanic Problem.ipynb",
      "provenance": [],
      "include_colab_link": true
    }
  },
  "nbformat": 4,
  "nbformat_minor": 5
}